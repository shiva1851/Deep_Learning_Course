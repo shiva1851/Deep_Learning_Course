{
 "cells": [
  {
   "cell_type": "code",
   "execution_count": 1,
   "id": "4b711e64",
   "metadata": {},
   "outputs": [],
   "source": [
    "import numpy as np\n",
    "import matplotlib.pyplot as plt\n",
    "import h5py\n",
    "import scipy\n",
    "from PIL import Image\n",
    "from scipy import ndimage\n",
    "from lr_utils import load_dataset\n",
    "%matplotlib inline"
   ]
  },
  {
   "cell_type": "code",
   "execution_count": 2,
   "id": "a71049f4",
   "metadata": {},
   "outputs": [],
   "source": [
    "from sklearn.metrics import accuracy_score"
   ]
  },
  {
   "cell_type": "code",
   "execution_count": 3,
   "id": "55393d5b",
   "metadata": {},
   "outputs": [],
   "source": [
    "import os\n",
    "for dirname, _, filenames in os.walk('/kaggle/input'):\n",
    "    for filename in filenames:\n",
    "        print(os.path.join(dirname, filename))"
   ]
  },
  {
   "cell_type": "code",
   "execution_count": 88,
   "id": "7273d5da",
   "metadata": {},
   "outputs": [],
   "source": [
    "def load_dataset():\n",
    "    train_dataset = h5py.File(\"C:\\\\Users\\\\SusmitPC_3\\\\Documents\\\\datasets\\\\train_catvnoncat.h5\", \"r\")\n",
    "    train_set_x_orig = np.array(train_dataset[\"train_set_x\"][:]) # your train set features\n",
    "    train_set_y_orig = np.array(train_dataset[\"train_set_y\"][:]) # your train set labels\n",
    "\n",
    "    test_dataset = h5py.File(\"C:\\\\Users\\\\SusmitPC_3\\\\Documents\\\\datasets\\\\test_catvnoncat.h5\", \"r\")\n",
    "    test_set_x_orig = np.array(test_dataset[\"test_set_x\"][:]) # your test set features\n",
    "    test_set_y_orig = np.array(test_dataset[\"test_set_y\"][:]) # your test set labels\n",
    "\n",
    "    classes = np.array(test_dataset[\"list_classes\"][:]) # the list of classes\n",
    "    \n",
    "    train_set_y_orig = train_set_y_orig.reshape((1, train_set_y_orig.shape[0]))\n",
    "    test_set_y_orig = test_set_y_orig.reshape((1, test_set_y_orig.shape[0]))\n",
    "    \n",
    "    return train_set_x_orig, train_set_y_orig, test_set_x_orig, test_set_y_orig, classes\n",
    "\n",
    "# Loading the data (cat/non-cat)\n",
    "train_set_x_orig, train_set_y, test_set_x_orig, test_set_y, classes = load_dataset()"
   ]
  },
  {
   "cell_type": "code",
   "execution_count": 5,
   "id": "6b81958a",
   "metadata": {},
   "outputs": [
    {
     "data": {
      "text/plain": [
       "<matplotlib.image.AxesImage at 0x28cff2233d0>"
      ]
     },
     "execution_count": 5,
     "metadata": {},
     "output_type": "execute_result"
    },
    {
     "data": {
      "image/png": "[encoded data removed]",
      "text/plain": [
       "<Figure size 640x480 with 1 Axes>"
      ]
     },
     "metadata": {},
     "output_type": "display_data"
    }
   ],
   "source": [
    "index = 5\n",
    "plt.imshow(train_set_x_orig[index])"
   ]
  },
  {
   "cell_type": "code",
   "execution_count": 6,
   "id": "5c13ee78",
   "metadata": {},
   "outputs": [
    {
     "data": {
      "text/plain": [
       "(1, 209)"
      ]
     },
     "execution_count": 6,
     "metadata": {},
     "output_type": "execute_result"
    }
   ],
   "source": [
    "train_set_y.shape"
   ]
  },
  {
   "cell_type": "code",
   "execution_count": 7,
   "id": "c0e60d07",
   "metadata": {},
   "outputs": [
    {
     "data": {
      "text/plain": [
       "(209, 64, 64, 3)"
      ]
     },
     "execution_count": 7,
     "metadata": {},
     "output_type": "execute_result"
    }
   ],
   "source": [
    "train_set_x_orig.shape"
   ]
  },
  {
   "cell_type": "markdown",
   "id": "d98f1b65",
   "metadata": {},
   "source": [
    "training set has 209 image examples of size 64 x 64 x 3"
   ]
  },
  {
   "cell_type": "markdown",
   "id": "94131c47",
   "metadata": {},
   "source": [
    "flatten training set to 209 column vectors of size (64.64.3,1). Hence x has shape (64.64.3, 209) or (209, 64.64.3).T"
   ]
  },
  {
   "cell_type": "code",
   "execution_count": 8,
   "id": "50bc6705",
   "metadata": {},
   "outputs": [],
   "source": [
    "train_set_x_orig=train_set_x_orig.reshape(209,-1).T"
   ]
  },
  {
   "cell_type": "code",
   "execution_count": 9,
   "id": "dcc5f264",
   "metadata": {},
   "outputs": [
    {
     "data": {
      "text/plain": [
       "(12288, 209)"
      ]
     },
     "execution_count": 9,
     "metadata": {},
     "output_type": "execute_result"
    }
   ],
   "source": [
    "train_set_x_orig.shape"
   ]
  },
  {
   "cell_type": "markdown",
   "id": "3c2f4acf",
   "metadata": {},
   "source": [
    "similarly for test set:"
   ]
  },
  {
   "cell_type": "code",
   "execution_count": 10,
   "id": "5888c759",
   "metadata": {},
   "outputs": [
    {
     "data": {
      "text/plain": [
       "(50, 64, 64, 3)"
      ]
     },
     "execution_count": 10,
     "metadata": {},
     "output_type": "execute_result"
    }
   ],
   "source": [
    "test_set_x_orig.shape"
   ]
  },
  {
   "cell_type": "code",
   "execution_count": 11,
   "id": "3cf30149",
   "metadata": {},
   "outputs": [],
   "source": [
    "test_set_x_orig=test_set_x_orig.reshape(50,-1).T"
   ]
  },
  {
   "cell_type": "code",
   "execution_count": 12,
   "id": "b44414fe",
   "metadata": {},
   "outputs": [
    {
     "data": {
      "text/plain": [
       "(12288, 50)"
      ]
     },
     "execution_count": 12,
     "metadata": {},
     "output_type": "execute_result"
    }
   ],
   "source": [
    "test_set_x_orig.shape"
   ]
  },
  {
   "cell_type": "markdown",
   "id": "3b1ecfda",
   "metadata": {},
   "source": [
    "normalise"
   ]
  },
  {
   "cell_type": "code",
   "execution_count": 13,
   "id": "5c44ae32",
   "metadata": {},
   "outputs": [],
   "source": [
    "train_X=train_set_x_orig/255\n",
    "test_X=test_set_x_orig/255"
   ]
  },
  {
   "cell_type": "code",
   "execution_count": 14,
   "id": "9829c803",
   "metadata": {},
   "outputs": [],
   "source": [
    "def sig(z):\n",
    "    s=1/(1+np.exp(-z))\n",
    "    return s"
   ]
  },
  {
   "cell_type": "code",
   "execution_count": 76,
   "id": "cd209fab",
   "metadata": {},
   "outputs": [],
   "source": [
    "def param_shape(dim):\n",
    "    w=np.zeros(shape=(dim,1))\n",
    "    b=0\n",
    "    return w,b"
   ]
  },
  {
   "cell_type": "code",
   "execution_count": 77,
   "id": "908a97f7",
   "metadata": {},
   "outputs": [],
   "source": [
    "def forward(w,b,x,y):\n",
    "    #no of training example=m\n",
    "    m=x.shape[1]\n",
    "    A=sig(np.dot(w.T,x)+b)\n",
    "    cost = (-1/m) * np.sum(y * np.log(A) + (1 - y) * (np.log(1 - A)))    \n",
    "    dw=(1/m)*(np.dot(x,(A-y).T))\n",
    "    db=(1/m)*np.sum(A-y)\n",
    "    cost = np.squeeze(cost)\n",
    "    return dw, db, cost"
   ]
  },
  {
   "cell_type": "code",
   "execution_count": 78,
   "id": "1897b95f",
   "metadata": {},
   "outputs": [],
   "source": [
    "def back(w,b,x,y, num_it, lr, print_cost = False):\n",
    "    cost_arr=[]\n",
    "    for i in range(num_it):\n",
    "        dw, db, cost=forward(w,b,x,y)\n",
    "        w=w-lr*dw\n",
    "        b=b-lr*db\n",
    "        if i%100==0:\n",
    "            cost_arr.append(cost)\n",
    "            \n",
    "        if print_cost and i % 100 == 0:\n",
    "            print (f\"Cost after iteration {i} : {cost}\")\n",
    "            \n",
    "    return w,b,dw,db,cost_arr"
   ]
  },
  {
   "cell_type": "code",
   "execution_count": 79,
   "id": "ac8973c9",
   "metadata": {},
   "outputs": [],
   "source": [
    "def predict(w,b,x):\n",
    "    m=x.shape[1]\n",
    "    y_pred=np.zeros((1,m))\n",
    "    w=w.reshape((x.shape[0],1))\n",
    "    A=sig(np.dot(w.T,x)+b)\n",
    "    \n",
    "    for i in range(A.shape[1]):\n",
    "        y_pred[0, i] = 1 if A[0, i] > 0.5 else 0\n",
    "\n",
    "    return y_pred"
   ]
  },
  {
   "cell_type": "code",
   "execution_count": 80,
   "id": "439bdbed",
   "metadata": {},
   "outputs": [],
   "source": [
    "def model(x_train, y_train, x_test, y_test, num_it=2000, lr=0.05, print_cost=False):\n",
    "    w,b=param_shape(x_train.shape[0])\n",
    "    w,b,dw,db,cost_arr=back(w,b,x_train, y_train, num_it, lr, print_cost)\n",
    "    y_pred_train=predict(w,b,x_train)\n",
    "    y_pred_test=predict(w,b,x_test)\n",
    "    print(f\"train accuracy: {(100 - np.mean(np.abs(y_pred_train - y_train)) * 100)} %\")\n",
    "    print(f\"test accuracy: {(100 - np.mean(np.abs(y_pred_test - y_test)) * 100)} %\")\n",
    "    return cost_arr, y_pred_test, y_pred_train, w,b,lr,num_it"
   ]
  },
  {
   "cell_type": "code",
   "execution_count": 85,
   "id": "b4a58da6",
   "metadata": {},
   "outputs": [
    {
     "name": "stdout",
     "output_type": "stream",
     "text": [
      "Cost after iteration 0 : 0.6931471805599453\n",
      "Cost after iteration 100 : 0.5845083636993086\n",
      "Cost after iteration 200 : 0.4669490409465546\n",
      "Cost after iteration 300 : 0.37600686694802077\n",
      "Cost after iteration 400 : 0.3314632893282512\n",
      "Cost after iteration 500 : 0.3032730674743829\n",
      "Cost after iteration 600 : 0.2798795865826048\n",
      "Cost after iteration 700 : 0.2600421369258757\n",
      "Cost after iteration 800 : 0.24294068467796612\n",
      "Cost after iteration 900 : 0.22800422256726066\n",
      "Cost after iteration 1000 : 0.21481951378449646\n",
      "Cost after iteration 1100 : 0.20307819060644994\n",
      "Cost after iteration 1200 : 0.1925442771670686\n",
      "Cost after iteration 1300 : 0.18303333796883509\n",
      "Cost after iteration 1400 : 0.17439859438448874\n",
      "Cost after iteration 1500 : 0.16652139705400335\n",
      "Cost after iteration 1600 : 0.1593045182975662\n",
      "Cost after iteration 1700 : 0.1526673247129651\n",
      "Cost after iteration 1800 : 0.14654223503982336\n",
      "Cost after iteration 1900 : 0.14087207570310165\n",
      "Cost after iteration 2000 : 0.1356080752591201\n",
      "Cost after iteration 2100 : 0.13070832130477317\n",
      "Cost after iteration 2200 : 0.1261365573364284\n",
      "Cost after iteration 2300 : 0.12186123310162926\n",
      "Cost after iteration 2400 : 0.11785474652704071\n",
      "Cost after iteration 2500 : 0.11409283226927086\n",
      "Cost after iteration 2600 : 0.11055406382501505\n",
      "Cost after iteration 2700 : 0.10721944457861768\n",
      "Cost after iteration 2800 : 0.10407206923216956\n",
      "Cost after iteration 2900 : 0.10109684147524375\n",
      "Cost after iteration 3000 : 0.09828023699678216\n",
      "Cost after iteration 3100 : 0.09561010335573059\n",
      "Cost after iteration 3200 : 0.09307549004229354\n",
      "Cost after iteration 3300 : 0.09066650344102871\n",
      "Cost after iteration 3400 : 0.08837418246564316\n",
      "Cost after iteration 3500 : 0.08619039145561956\n",
      "Cost after iteration 3600 : 0.08410772756609204\n",
      "Cost after iteration 3700 : 0.08211944038800699\n",
      "Cost after iteration 3800 : 0.08021936193738753\n",
      "Cost after iteration 3900 : 0.07840184547417217\n",
      "Cost after iteration 4000 : 0.0766617118703419\n",
      "Cost after iteration 4100 : 0.0749942024573522\n",
      "Cost after iteration 4200 : 0.07339493745449004\n",
      "Cost after iteration 4300 : 0.07185987922058305\n",
      "Cost after iteration 4400 : 0.07038529968762712\n",
      "Cost after iteration 4500 : 0.06896775143115177\n",
      "Cost after iteration 4600 : 0.06760404191228085\n",
      "Cost after iteration 4700 : 0.06629121049345109\n",
      "Cost after iteration 4800 : 0.06502650788600446\n",
      "Cost after iteration 4900 : 0.06380737773526818\n",
      "Cost after iteration 5000 : 0.06263144008882944\n",
      "Cost after iteration 5100 : 0.06149647652772849\n",
      "Cost after iteration 5200 : 0.0604004167692594\n",
      "Cost after iteration 5300 : 0.05934132657479689\n",
      "Cost after iteration 5400 : 0.058317396817258955\n",
      "Cost after iteration 5500 : 0.057326933581001355\n",
      "Cost after iteration 5600 : 0.05636834918261741\n",
      "Cost after iteration 5700 : 0.05544015401463934\n",
      "Cost after iteration 5800 : 0.05454094912585189\n",
      "Cost after iteration 5900 : 0.05366941946208608\n",
      "Cost after iteration 6000 : 0.052824327700194164\n",
      "Cost after iteration 6100 : 0.0520045086156093\n",
      "Cost after iteration 6200 : 0.05120886393061264\n",
      "Cost after iteration 6300 : 0.05043635759631642\n",
      "Cost after iteration 6400 : 0.04968601146652812\n",
      "Cost after iteration 6500 : 0.048956901326196206\n",
      "Cost after iteration 6600 : 0.048248153241119876\n",
      "Cost after iteration 6700 : 0.04755894019912772\n",
      "Cost after iteration 6800 : 0.04688847901603084\n",
      "Cost after iteration 6900 : 0.04623602748240521\n",
      "Cost after iteration 7000 : 0.04560088172969219\n",
      "Cost after iteration 7100 : 0.04498237379626369\n",
      "Cost after iteration 7200 : 0.04437986937602169\n",
      "Cost after iteration 7300 : 0.04379276573380955\n",
      "Cost after iteration 7400 : 0.043220489773433395\n",
      "Cost after iteration 7500 : 0.04266249624545788\n",
      "Cost after iteration 7600 : 0.04211826608314848\n",
      "Cost after iteration 7700 : 0.041587304856027914\n",
      "Cost after iteration 7800 : 0.04106914133148438\n",
      "Cost after iteration 7900 : 0.040563326135747306\n",
      "Cost after iteration 8000 : 0.040069430506331716\n",
      "Cost after iteration 8100 : 0.03958704512875923\n",
      "Cost after iteration 8200 : 0.03911577905100337\n",
      "Cost after iteration 8300 : 0.038655258669677055\n",
      "Cost after iteration 8400 : 0.03820512678250407\n",
      "Cost after iteration 8500 : 0.037765041702080816\n",
      "Cost after iteration 8600 : 0.03733467642636097\n",
      "Cost after iteration 8700 : 0.0369137178616794\n",
      "Cost after iteration 8800 : 0.036501866094479765\n",
      "Cost after iteration 8900 : 0.036098833708226405\n",
      "Cost after iteration 9000 : 0.03570434514226786\n",
      "Cost after iteration 9100 : 0.03531813608968193\n",
      "Cost after iteration 9200 : 0.034939952931367244\n",
      "Cost after iteration 9300 : 0.03456955220386592\n",
      "Cost after iteration 9400 : 0.03420670009859699\n",
      "Cost after iteration 9500 : 0.03385117199036177\n",
      "Cost after iteration 9600 : 0.03350275199314678\n",
      "Cost after iteration 9700 : 0.03316123254139938\n",
      "Cost after iteration 9800 : 0.03282641399509204\n",
      "Cost after iteration 9900 : 0.03249810426701255\n",
      "Cost after iteration 10000 : 0.032176118470838906\n",
      "Cost after iteration 10100 : 0.031860278588658225\n",
      "Cost after iteration 10200 : 0.031550413156691305\n",
      "Cost after iteration 10300 : 0.031246356968070006\n",
      "Cost after iteration 10400 : 0.030947950791600315\n",
      "Cost after iteration 10500 : 0.030655041105516874\n",
      "Cost after iteration 10600 : 0.03036747984530732\n",
      "Cost after iteration 10700 : 0.03008512416474641\n",
      "Cost after iteration 10800 : 0.029807836209341243\n",
      "Cost after iteration 10900 : 0.029535482901443675\n",
      "Cost after iteration 11000 : 0.02926793573633382\n",
      "Cost after iteration 11100 : 0.02900507058862972\n",
      "Cost after iteration 11200 : 0.028746767528418007\n",
      "Cost after iteration 11300 : 0.02849291064654144\n",
      "Cost after iteration 11400 : 0.028243387888516925\n",
      "Cost after iteration 11500 : 0.027998090896591332\n",
      "Cost after iteration 11600 : 0.027756914859473958\n",
      "Cost after iteration 11700 : 0.027519758369315007\n",
      "Cost after iteration 11800 : 0.027286523285526432\n",
      "Cost after iteration 11900 : 0.027057114605065956\n",
      "Cost after iteration 12000 : 0.026831440338831194\n",
      "Cost after iteration 12100 : 0.026609411393829774\n",
      "Cost after iteration 12200 : 0.026390941460815043\n",
      "Cost after iteration 12300 : 0.026175946907093326\n",
      "Cost after iteration 12400 : 0.025964346674227805\n",
      "Cost after iteration 12500 : 0.025756062180381113\n",
      "Cost after iteration 12600 : 0.025551017227052983\n",
      "Cost after iteration 12700 : 0.02534913790998437\n",
      "Cost after iteration 12800 : 0.025150352534013456\n",
      "Cost after iteration 12900 : 0.024954591531680358\n",
      "Cost after iteration 13000 : 0.0247617873853899\n",
      "Cost after iteration 13100 : 0.02457187455295336\n",
      "Cost after iteration 13200 : 0.02438478939633829\n",
      "Cost after iteration 13300 : 0.024200470113468528\n",
      "Cost after iteration 13400 : 0.024018856672921383\n",
      "Cost after iteration 13500 : 0.023839890751381657\n",
      "Cost after iteration 13600 : 0.023663515673716766\n",
      "Cost after iteration 13700 : 0.023489676355546597\n",
      "Cost after iteration 13800 : 0.02331831924818749\n",
      "Cost after iteration 13900 : 0.023149392285857773\n",
      "Cost after iteration 14000 : 0.022982844835036743\n",
      "Cost after iteration 14100 : 0.02281862764587586\n",
      "Cost after iteration 14200 : 0.022656692805565905\n",
      "Cost after iteration 14300 : 0.022496993693569216\n",
      "Cost after iteration 14400 : 0.02233948493863108\n",
      "Cost after iteration 14500 : 0.022184122377487514\n",
      "Cost after iteration 14600 : 0.02203086301519352\n",
      "Cost after iteration 14700 : 0.021879664986997158\n",
      "Cost after iteration 14800 : 0.021730487521690038\n",
      "Cost after iteration 14900 : 0.021583290906369106\n",
      "Cost after iteration 15000 : 0.02143803645254502\n",
      "Cost after iteration 15100 : 0.02129468646353964\n",
      "Cost after iteration 15200 : 0.021153204203114742\n",
      "Cost after iteration 15300 : 0.021013553865278353\n",
      "Cost after iteration 15400 : 0.020875700545218097\n",
      "Cost after iteration 15500 : 0.0207396102113123\n",
      "Cost after iteration 15600 : 0.020605249678173235\n",
      "Cost after iteration 15700 : 0.020472586580678086\n",
      "Cost after iteration 15800 : 0.020341589348946046\n",
      "Cost after iteration 15900 : 0.020212227184221353\n",
      "Cost after iteration 16000 : 0.020084470035625045\n",
      "Cost after iteration 16100 : 0.019958288577738428\n",
      "Cost after iteration 16200 : 0.01983365418898434\n",
      "Cost after iteration 16300 : 0.019710538930773475\n",
      "Cost after iteration 16400 : 0.019588915527384135\n",
      "Cost after iteration 16500 : 0.019468757346545646\n",
      "Cost after iteration 16600 : 0.019350038380697234\n",
      "Cost after iteration 16700 : 0.019232733228895155\n",
      "Cost after iteration 16800 : 0.019116817079341767\n"
     ]
    },
    {
     "name": "stdout",
     "output_type": "stream",
     "text": [
      "Cost after iteration 16900 : 0.01900226569251215\n",
      "Cost after iteration 17000 : 0.018889055384854896\n",
      "Cost after iteration 17100 : 0.018777163013043854\n",
      "Cost after iteration 17200 : 0.018666565958759745\n",
      "Cost after iteration 17300 : 0.018557242113980844\n",
      "Cost after iteration 17400 : 0.01844916986676341\n",
      "Cost after iteration 17500 : 0.018342328087492206\n",
      "Cost after iteration 17600 : 0.01823669611558414\n",
      "Cost after iteration 17700 : 0.018132253746626782\n",
      "Cost after iteration 17800 : 0.018028981219936444\n",
      "Cost after iteration 17900 : 0.01792685920651858\n",
      "Cost after iteration 18000 : 0.017825868797416752\n",
      "Cost after iteration 18100 : 0.01772599149243507\n",
      "Cost after iteration 18200 : 0.017627209189220103\n",
      "Cost after iteration 18300 : 0.017529504172689434\n",
      "Cost after iteration 18400 : 0.01743285910479393\n",
      "Cost after iteration 18500 : 0.017337257014601416\n",
      "Cost after iteration 18600 : 0.01724268128869044\n",
      "Cost after iteration 18700 : 0.017149115661842237\n",
      "Cost after iteration 18800 : 0.017056544208021256\n",
      "Cost after iteration 18900 : 0.016964951331632876\n",
      "Cost after iteration 19000 : 0.01687432175904901\n",
      "Cost after iteration 19100 : 0.01678464053039165\n",
      "Cost after iteration 19200 : 0.01669589299156642\n",
      "Cost after iteration 19300 : 0.016608064786535252\n",
      "Cost after iteration 19400 : 0.016521141849822375\n",
      "Cost after iteration 19500 : 0.01643511039924333\n",
      "Cost after iteration 19600 : 0.016349956928850766\n",
      "Cost after iteration 19700 : 0.01626566820208871\n",
      "Cost after iteration 19800 : 0.016182231245148587\n",
      "Cost after iteration 19900 : 0.016099633340520027\n",
      "Cost after iteration 20000 : 0.016017862020729714\n",
      "Cost after iteration 20100 : 0.01593690506226225\n",
      "Cost after iteration 20200 : 0.015856750479656408\n",
      "Cost after iteration 20300 : 0.01577738651977175\n",
      "Cost after iteration 20400 : 0.015698801656218633\n",
      "Cost after iteration 20500 : 0.01562098458394769\n",
      "Cost after iteration 20600 : 0.015543924213992293\n",
      "Cost after iteration 20700 : 0.015467609668359947\n",
      "Cost after iteration 20800 : 0.015392030275066913\n",
      "Cost after iteration 20900 : 0.015317175563311716\n",
      "Cost after iteration 21000 : 0.015243035258783646\n",
      "Cost after iteration 21100 : 0.015169599279100653\n",
      "Cost after iteration 21200 : 0.015096857729373766\n",
      "Cost after iteration 21300 : 0.015024800897893133\n",
      "Cost after iteration 21400 : 0.014953419251931999\n",
      "Cost after iteration 21500 : 0.014882703433665212\n",
      "Cost after iteration 21600 : 0.014812644256198425\n",
      "Cost after iteration 21700 : 0.014743232699704255\n",
      "Cost after iteration 21800 : 0.014674459907662606\n",
      "Cost after iteration 21900 : 0.014606317183201453\n",
      "Cost after iteration 22000 : 0.014538795985535091\n",
      "Cost after iteration 22100 : 0.01447188792649716\n",
      "Cost after iteration 22200 : 0.014405584767165042\n",
      "Cost after iteration 22300 : 0.014339878414573187\n",
      "Cost after iteration 22400 : 0.014274760918512281\n",
      "Cost after iteration 22500 : 0.014210224468412393\n",
      "Cost after iteration 22600 : 0.014146261390306667\n",
      "Cost after iteration 22700 : 0.01408286414387366\n",
      "Cost after iteration 22800 : 0.014020025319555974\n",
      "Cost after iteration 22900 : 0.013957737635752717\n",
      "Cost after iteration 23000 : 0.013895993936083668\n",
      "Cost after iteration 23100 : 0.013834787186723065\n",
      "Cost after iteration 23200 : 0.013774110473800854\n",
      "Cost after iteration 23300 : 0.013713957000869777\n",
      "Cost after iteration 23400 : 0.013654320086435781\n",
      "Cost after iteration 23500 : 0.01359519316155024\n",
      "Cost after iteration 23600 : 0.013536569767462554\n",
      "Cost after iteration 23700 : 0.013478443553330662\n",
      "Cost after iteration 23800 : 0.013420808273988278\n",
      "Cost after iteration 23900 : 0.013363657787767037\n",
      "Cost after iteration 24000 : 0.0133069860543722\n",
      "Cost after iteration 24100 : 0.013250787132810173\n",
      "Cost after iteration 24200 : 0.013195055179366416\n",
      "Cost after iteration 24300 : 0.013139784445632331\n",
      "Cost after iteration 24400 : 0.013084969276580077\n",
      "Cost after iteration 24500 : 0.013030604108683104\n",
      "Cost after iteration 24600 : 0.012976683468082385\n",
      "Cost after iteration 24700 : 0.012923201968795917\n",
      "Cost after iteration 24800 : 0.01287015431097093\n",
      "Cost after iteration 24900 : 0.012817535279177514\n",
      "Cost after iteration 25000 : 0.012765339740742407\n",
      "Cost after iteration 25100 : 0.012713562644122024\n",
      "Cost after iteration 25200 : 0.012662199017313622\n",
      "Cost after iteration 25300 : 0.012611243966303209\n",
      "Cost after iteration 25400 : 0.012560692673549863\n",
      "Cost after iteration 25500 : 0.012510540396504843\n",
      "Cost after iteration 25600 : 0.012460782466165212\n",
      "Cost after iteration 25700 : 0.012411414285660203\n",
      "Cost after iteration 25800 : 0.012362431328870287\n",
      "Cost after iteration 25900 : 0.012313829139077647\n",
      "Cost after iteration 26000 : 0.012265603327647135\n",
      "Cost after iteration 26100 : 0.012217749572737377\n",
      "Cost after iteration 26200 : 0.012170263618040572\n",
      "Cost after iteration 26300 : 0.012123141271551088\n",
      "Cost after iteration 26400 : 0.012076378404361083\n",
      "Cost after iteration 26500 : 0.012029970949483259\n",
      "Cost after iteration 26600 : 0.011983914900700067\n",
      "Cost after iteration 26700 : 0.011938206311437593\n",
      "Cost after iteration 26800 : 0.011892841293665187\n",
      "Cost after iteration 26900 : 0.011847816016818637\n",
      "Cost after iteration 27000 : 0.011803126706747281\n",
      "Cost after iteration 27100 : 0.011758769644683862\n",
      "Cost after iteration 27200 : 0.01171474116623709\n",
      "Cost after iteration 27300 : 0.011671037660405647\n",
      "Cost after iteration 27400 : 0.01162765556861377\n",
      "Cost after iteration 27500 : 0.011584591383767577\n",
      "Cost after iteration 27600 : 0.011541841649331586\n",
      "Cost after iteration 27700 : 0.011499402958424642\n",
      "Cost after iteration 27800 : 0.011457271952935853\n",
      "Cost after iteration 27900 : 0.011415445322658412\n",
      "Cost after iteration 28000 : 0.011373919804442524\n",
      "Cost after iteration 28100 : 0.011332692181365522\n",
      "Cost after iteration 28200 : 0.011291759281919918\n",
      "Cost after iteration 28300 : 0.01125111797921815\n",
      "Cost after iteration 28400 : 0.011210765190214031\n",
      "Cost after iteration 28500 : 0.011170697874940351\n",
      "Cost after iteration 28600 : 0.011130913035762446\n",
      "Cost after iteration 28700 : 0.011091407716646708\n",
      "Cost after iteration 28800 : 0.011052179002444866\n",
      "Cost after iteration 28900 : 0.011013224018192233\n",
      "Cost after iteration 29000 : 0.010974539928420802\n",
      "Cost after iteration 29100 : 0.010936123936486087\n",
      "Cost after iteration 29200 : 0.010897973283907767\n",
      "Cost after iteration 29300 : 0.010860085249723534\n",
      "Cost after iteration 29400 : 0.01082245714985604\n",
      "Cost after iteration 29500 : 0.010785086336492786\n",
      "Cost after iteration 29600 : 0.010747970197478026\n",
      "Cost after iteration 29700 : 0.01071110615571712\n",
      "Cost after iteration 29800 : 0.010674491668592745\n",
      "Cost after iteration 29900 : 0.010638124227392505\n",
      "Cost after iteration 30000 : 0.010602001356748004\n",
      "Cost after iteration 30100 : 0.010566120614084998\n",
      "Cost after iteration 30200 : 0.010530479589084284\n",
      "Cost after iteration 30300 : 0.010495075903153154\n",
      "Cost after iteration 30400 : 0.010459907208907283\n",
      "Cost after iteration 30500 : 0.010424971189662523\n",
      "Cost after iteration 30600 : 0.010390265558936731\n",
      "Cost after iteration 30700 : 0.010355788059961107\n",
      "Cost after iteration 30800 : 0.010321536465201033\n",
      "Cost after iteration 30900 : 0.010287508575886126\n",
      "Cost after iteration 31000 : 0.010253702221549268\n",
      "Cost after iteration 31100 : 0.010220115259574399\n",
      "Cost after iteration 31200 : 0.010186745574753055\n",
      "Cost after iteration 31300 : 0.01015359107884922\n",
      "Cost after iteration 31400 : 0.010120649710172352\n",
      "Cost after iteration 31500 : 0.010087919433158737\n",
      "Cost after iteration 31600 : 0.01005539823796026\n",
      "Cost after iteration 31700 : 0.010023084140041516\n",
      "Cost after iteration 31800 : 0.009990975179783795\n",
      "Cost after iteration 31900 : 0.009959069422096902\n",
      "Cost after iteration 32000 : 0.009927364956038085\n",
      "Cost after iteration 32100 : 0.009895859894437796\n",
      "Cost after iteration 32200 : 0.009864552373532764\n",
      "Cost after iteration 32300 : 0.009833440552605493\n",
      "Cost after iteration 32400 : 0.009802522613630557\n",
      "Cost after iteration 32500 : 0.009771796760927176\n",
      "Cost after iteration 32600 : 0.009741261220818564\n",
      "Cost after iteration 32700 : 0.009710914241296819\n",
      "Cost after iteration 32800 : 0.009680754091694506\n",
      "Cost after iteration 32900 : 0.009650779062361886\n",
      "Cost after iteration 33000 : 0.009620987464349874\n",
      "Cost after iteration 33100 : 0.009591377629099068\n",
      "Cost after iteration 33200 : 0.009561947908133854\n",
      "Cost after iteration 33300 : 0.0095326966727625\n"
     ]
    },
    {
     "name": "stdout",
     "output_type": "stream",
     "text": [
      "Cost after iteration 33400 : 0.009503622313782104\n",
      "Cost after iteration 33500 : 0.009474723241189283\n",
      "Cost after iteration 33600 : 0.009445997883895467\n",
      "Cost after iteration 33700 : 0.009417444689447683\n",
      "Cost after iteration 33800 : 0.009389062123753992\n",
      "Cost after iteration 33900 : 0.009360848670813797\n",
      "Cost after iteration 34000 : 0.009332802832452901\n",
      "Cost after iteration 34100 : 0.009304923128063315\n",
      "Cost after iteration 34200 : 0.00927720809434723\n",
      "Cost after iteration 34300 : 0.009249656285066004\n",
      "Cost after iteration 34400 : 0.00922226627079282\n",
      "Cost after iteration 34500 : 0.00919503663867028\n",
      "Cost after iteration 34600 : 0.009167965992171756\n",
      "Cost after iteration 34700 : 0.009141052950866828\n",
      "Cost after iteration 34800 : 0.009114296150191027\n",
      "Cost after iteration 34900 : 0.009087694241219265\n",
      "Cost after iteration 35000 : 0.009061245890443227\n",
      "Cost after iteration 35100 : 0.009034949779552468\n",
      "Cost after iteration 35200 : 0.009008804605219385\n",
      "Cost after iteration 35300 : 0.008982809078887601\n",
      "Cost after iteration 35400 : 0.008956961926564014\n",
      "Cost after iteration 35500 : 0.0089312618886144\n",
      "Cost after iteration 35600 : 0.008905707719562322\n",
      "Cost after iteration 35700 : 0.008880298187891586\n",
      "Cost after iteration 35800 : 0.008855032075851676\n",
      "Cost after iteration 35900 : 0.008829908179266684\n",
      "Cost after iteration 36000 : 0.00880492530734741\n",
      "Cost after iteration 36100 : 0.008780082282506327\n",
      "Cost after iteration 36200 : 0.008755377940175986\n",
      "Cost after iteration 36300 : 0.008730811128629815\n",
      "Cost after iteration 36400 : 0.008706380708806605\n",
      "Cost after iteration 36500 : 0.008682085554137204\n",
      "Cost after iteration 36600 : 0.008657924550374382\n",
      "Cost after iteration 36700 : 0.008633896595425444\n",
      "Cost after iteration 36800 : 0.008610000599187448\n",
      "Cost after iteration 36900 : 0.008586235483385099\n",
      "Cost after iteration 37000 : 0.008562600181411355\n",
      "Cost after iteration 37100 : 0.008539093638170563\n",
      "Cost after iteration 37200 : 0.008515714809923988\n",
      "Cost after iteration 37300 : 0.008492462664138115\n",
      "Cost after iteration 37400 : 0.008469336179334895\n",
      "Cost after iteration 37500 : 0.008446334344944932\n",
      "Cost after iteration 37600 : 0.008423456161162426\n",
      "Cost after iteration 37700 : 0.008400700638803075\n",
      "Cost after iteration 37800 : 0.008378066799163543\n",
      "Cost after iteration 37900 : 0.008355553673883647\n",
      "Cost after iteration 38000 : 0.008333160304810369\n",
      "Cost after iteration 38100 : 0.008310885743864292\n",
      "Cost after iteration 38200 : 0.008288729052907926\n",
      "Cost after iteration 38300 : 0.008266689303616136\n",
      "Cost after iteration 38400 : 0.008244765577348564\n",
      "Cost after iteration 38500 : 0.008222956965024151\n",
      "Cost after iteration 38600 : 0.00820126256699746\n",
      "Cost after iteration 38700 : 0.00817968149293689\n",
      "Cost after iteration 38800 : 0.00815821286170499\n",
      "Cost after iteration 38900 : 0.008136855801240319\n",
      "Cost after iteration 39000 : 0.008115609448441316\n",
      "Cost after iteration 39100 : 0.008094472949051872\n",
      "Cost after iteration 39200 : 0.008073445457548619\n",
      "Cost after iteration 39300 : 0.008052526137030086\n",
      "Cost after iteration 39400 : 0.008031714159107271\n",
      "Cost after iteration 39500 : 0.008011008703796113\n",
      "Cost after iteration 39600 : 0.007990408959411435\n",
      "Cost after iteration 39700 : 0.007969914122462656\n",
      "Cost after iteration 39800 : 0.007949523397550756\n",
      "Cost after iteration 39900 : 0.007929235997267203\n",
      "Cost after iteration 40000 : 0.007909051142094007\n",
      "Cost after iteration 40100 : 0.007888968060305507\n",
      "Cost after iteration 40200 : 0.007868985987871566\n",
      "Cost after iteration 40300 : 0.007849104168362044\n",
      "Cost after iteration 40400 : 0.007829321852852981\n",
      "Cost after iteration 40500 : 0.007809638299833894\n",
      "Cost after iteration 40600 : 0.0077900527751165885\n",
      "Cost after iteration 40700 : 0.007770564551745242\n",
      "Cost after iteration 40800 : 0.007751172909907891\n",
      "Cost after iteration 40900 : 0.007731877136849093\n",
      "Cost after iteration 41000 : 0.007712676526783882\n",
      "Cost after iteration 41100 : 0.007693570380813145\n",
      "Cost after iteration 41200 : 0.007674558006840047\n",
      "Cost after iteration 41300 : 0.007655638719487624\n",
      "Cost after iteration 41400 : 0.007636811840017804\n",
      "Cost after iteration 41500 : 0.007618076696251324\n",
      "Cost after iteration 41600 : 0.007599432622489099\n",
      "Cost after iteration 41700 : 0.007580878959434295\n",
      "Cost after iteration 41800 : 0.007562415054116056\n",
      "Cost after iteration 41900 : 0.007544040259813776\n",
      "Cost after iteration 42000 : 0.007525753935982927\n",
      "Cost after iteration 42100 : 0.0075075554481815335\n",
      "Cost after iteration 42200 : 0.007489444167998001\n",
      "Cost after iteration 42300 : 0.007471419472979833\n",
      "Cost after iteration 42400 : 0.00745348074656329\n",
      "Cost after iteration 42500 : 0.0074356273780041985\n",
      "Cost after iteration 42600 : 0.007417858762309637\n",
      "Cost after iteration 42700 : 0.0074001743001704656\n",
      "Cost after iteration 42800 : 0.0073825733978951326\n",
      "Cost after iteration 42900 : 0.00736505546734398\n",
      "Cost after iteration 43000 : 0.007347619925864883\n",
      "Cost after iteration 43100 : 0.007330266196229432\n",
      "Cost after iteration 43200 : 0.0073129937065701915\n",
      "Cost after iteration 43300 : 0.007295801890318776\n",
      "Cost after iteration 43400 : 0.007278690186144805\n",
      "Cost after iteration 43500 : 0.0072616580378956665\n",
      "Cost after iteration 43600 : 0.007244704894537154\n",
      "Cost after iteration 43700 : 0.007227830210094767\n",
      "Cost after iteration 43800 : 0.007211033443596085\n",
      "Cost after iteration 43900 : 0.007194314059013692\n",
      "Cost after iteration 44000 : 0.007177671525208922\n",
      "Cost after iteration 44100 : 0.007161105315876487\n",
      "Cost after iteration 44200 : 0.007144614909489706\n",
      "Cost after iteration 44300 : 0.007128199789246602\n",
      "Cost after iteration 44400 : 0.007111859443016645\n",
      "Cost after iteration 44500 : 0.0070955933632881486\n",
      "Cost after iteration 44600 : 0.007079401047116585\n",
      "Cost after iteration 44700 : 0.007063281996073404\n",
      "Cost after iteration 44800 : 0.007047235716195602\n",
      "Cost after iteration 44900 : 0.007031261717935935\n",
      "Cost after iteration 45000 : 0.007015359516113837\n",
      "Cost after iteration 45100 : 0.00699952862986706\n",
      "Cost after iteration 45200 : 0.006983768582603645\n",
      "Cost after iteration 45300 : 0.006968078901954991\n",
      "Cost after iteration 45400 : 0.006952459119729151\n",
      "Cost after iteration 45500 : 0.006936908771864967\n",
      "Cost after iteration 45600 : 0.006921427398386656\n",
      "Cost after iteration 45700 : 0.006906014543359169\n",
      "Cost after iteration 45800 : 0.006890669754844008\n",
      "Cost after iteration 45900 : 0.006875392584855581\n",
      "Cost after iteration 46000 : 0.006860182589318213\n",
      "Cost after iteration 46100 : 0.006845039328023818\n",
      "Cost after iteration 46200 : 0.0068299623645897995\n",
      "Cost after iteration 46300 : 0.0068149512664178015\n",
      "Cost after iteration 46400 : 0.006800005604652964\n",
      "Cost after iteration 46500 : 0.006785124954143416\n",
      "Cost after iteration 46600 : 0.006770308893400712\n",
      "Cost after iteration 46700 : 0.0067555570045603475\n",
      "Cost after iteration 46800 : 0.006740868873343204\n",
      "Cost after iteration 46900 : 0.0067262440890172\n",
      "Cost after iteration 47000 : 0.006711682244359375\n",
      "Cost after iteration 47100 : 0.006697182935618797\n",
      "Cost after iteration 47200 : 0.006682745762479648\n",
      "Cost after iteration 47300 : 0.006668370328024768\n",
      "Cost after iteration 47400 : 0.006654056238699911\n",
      "Cost after iteration 47500 : 0.006639803104278203\n",
      "Cost after iteration 47600 : 0.00662561053782517\n",
      "Cost after iteration 47700 : 0.006611478155664145\n",
      "Cost after iteration 47800 : 0.006597405577342212\n",
      "Cost after iteration 47900 : 0.006583392425596389\n",
      "Cost after iteration 48000 : 0.0065694383263204745\n",
      "Cost after iteration 48100 : 0.0065555429085320865\n",
      "Cost after iteration 48200 : 0.006541705804340248\n",
      "Cost after iteration 48300 : 0.006527926648913327\n",
      "Cost after iteration 48400 : 0.006514205080447398\n",
      "Cost after iteration 48500 : 0.0065005407401349195\n",
      "Cost after iteration 48600 : 0.006486933272133982\n",
      "Cost after iteration 48700 : 0.006473382323537562\n",
      "Cost after iteration 48800 : 0.006459887544343739\n",
      "Cost after iteration 48900 : 0.006446448587425632\n",
      "Cost after iteration 49000 : 0.006433065108502196\n",
      "Cost after iteration 49100 : 0.00641973676610912\n",
      "Cost after iteration 49200 : 0.006406463221570177\n",
      "Cost after iteration 49300 : 0.006393244138968816\n",
      "Cost after iteration 49400 : 0.006380079185120344\n",
      "Cost after iteration 49500 : 0.00636696802954408\n",
      "Cost after iteration 49600 : 0.006353910344436206\n",
      "Cost after iteration 49700 : 0.006340905804642716\n"
     ]
    },
    {
     "name": "stdout",
     "output_type": "stream",
     "text": [
      "Cost after iteration 49800 : 0.00632795408763273\n",
      "Cost after iteration 49900 : 0.006315054873472232\n",
      "train accuracy: 100.0 %\n",
      "test accuracy: 72.0 %\n"
     ]
    }
   ],
   "source": [
    "cost_arr, y_pred_test, y_pred_train, w,b,lr,num_it=model(train_X, train_set_y, test_X, test_set_y, 50000, 0.005, print_cost=True)"
   ]
  },
  {
   "cell_type": "code",
   "execution_count": 84,
   "id": "a848f7e6",
   "metadata": {},
   "outputs": [
    {
     "name": "stdout",
     "output_type": "stream",
     "text": [
      "Not Cat\n"
     ]
    },
    {
     "data": {
      "image/png": "[encoded data removed]",
      "text/plain": [
       "<Figure size 640x480 with 1 Axes>"
      ]
     },
     "metadata": {},
     "output_type": "display_data"
    }
   ],
   "source": [
    "index = 6\n",
    "plt.imshow(test_X[:,index].reshape((64, 64, 3)))\n",
    "if (y_pred_test[0, index]==0):\n",
    "    print(\"Not Cat\")\n",
    "else: \n",
    "    print(\"Cat\")"
   ]
  },
  {
   "cell_type": "code",
   "execution_count": 86,
   "id": "63903735",
   "metadata": {},
   "outputs": [
    {
     "name": "stdout",
     "output_type": "stream",
     "text": [
      "5\n",
      "6\n",
      "10\n",
      "11\n",
      "14\n",
      "16\n",
      "18\n",
      "19\n",
      "21\n",
      "22\n",
      "24\n",
      "27\n",
      "28\n",
      "30\n",
      "34\n",
      "35\n",
      "36\n",
      "38\n",
      "39\n",
      "41\n",
      "43\n",
      "46\n",
      "49\n"
     ]
    }
   ],
   "source": [
    "for i in range(50):\n",
    "    if y_pred_test[0,i]==0:\n",
    "        print(i)"
   ]
  },
  {
   "cell_type": "code",
   "execution_count": null,
   "id": "d8f05996",
   "metadata": {},
   "outputs": [],
   "source": []
  }
 ],
 "metadata": {
  "kernelspec": {
   "display_name": "Python 3 (ipykernel)",
   "language": "python",
   "name": "python3"
  },
  "language_info": {
   "codemirror_mode": {
    "name": "ipython",
    "version": 3
   },
   "file_extension": ".py",
   "mimetype": "text/x-python",
   "name": "python",
   "nbconvert_exporter": "python",
   "pygments_lexer": "ipython3",
   "version": "3.11.5"
  }
 },
 "nbformat": 4,
 "nbformat_minor": 5
}
